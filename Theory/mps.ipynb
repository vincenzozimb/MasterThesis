{
 "cells": [
  {
   "cell_type": "markdown",
   "metadata": {},
   "source": [
    "# Matrix Product States (MPS)"
   ]
  },
  {
   "cell_type": "code",
   "execution_count": 1,
   "metadata": {},
   "outputs": [],
   "source": [
    "# Import necessary packages\n",
    "import numpy as np\n",
    "import tensornetwork as tn"
   ]
  },
  {
   "cell_type": "code",
   "execution_count": 2,
   "metadata": {},
   "outputs": [],
   "source": [
    "# Create a random tensor\n",
    "def block(*dim):\n",
    "    '''Construct a tensor with random numbers from 0 to 1'''\n",
    "    size = tuple([x for x in dim])\n",
    "    return np.random.random_sample(size)\n",
    "\n",
    "\n",
    "# Create MPS\n",
    "def create_MPS(r, d, D):\n",
    "    \"\"\" Create a MPS using the 'block' function to initialize tensors.\n",
    "\n",
    "    Args:\n",
    "        r (int): the rank of the TN (number of dangling indeces, and therefore of elementary tensors)\n",
    "        d (int): physical dimension (dimension of the dangling indeces)\n",
    "        D (int): bond dimension (dimension of the connected indeces)\n",
    "\n",
    "    Return:\n",
    "        mps: list of nodes\n",
    "        conn_edges: list of connected edges\n",
    "        \n",
    "    \"\"\"\n",
    "    # create mps as a list of nodes\n",
    "    mps = (\n",
    "        [tn.Node(block(d, D), name=f'state_{0}')] + \n",
    "        [tn.Node(block(D, d, D), name=f'state_{i}') for i in range(1,r-1)] + \n",
    "        [tn.Node(block(D, d), name=f'state_{r-1}')]\n",
    "    )\n",
    "\n",
    "    # connect edges to form MPS\n",
    "    conn_edges = []\n",
    "    conn = mps[0][1] ^ mps[1][0]\n",
    "    conn_edges.append(conn)\n",
    "    for k in range(1,r-1):\n",
    "        conn = mps[k][2] ^ mps[k+1][0]\n",
    "        conn_edges.append(conn)\n",
    "\n",
    "    # return\n",
    "    return mps, conn_edges\n",
    "\n",
    "\n",
    "# Create Matrix Product Operator (MPO)\n",
    "def create_MPO(r, d, D):\n",
    "    \"\"\" Create a MPO using the 'block' function to initialize tensors.\n",
    "\n",
    "    Args:\n",
    "        r (int): the rank of the TN (twice the number of dangling indeces, and therefore twice the number of elementary tensors)\n",
    "        d (int): physical dimension (dimension of the dangling indeces)\n",
    "        D (int): bond dimension (dimension of the connected indeces)\n",
    "\n",
    "    Return:\n",
    "        mpo: list of nodes\n",
    "        conn_edges: list of connected edges\n",
    "        \n",
    "    \"\"\"\n",
    "    # create mpo as a list of nodes\n",
    "    mpo = (\n",
    "        [tn.Node(block(d, d, D), name=f'oper_{0}')] + \n",
    "        [tn.Node(block(D, d, D, d), name=f'oper_{i}') for i in range(1,r-1)] + \n",
    "        [tn.Node(block(D, d, d), name=f'oper_{r-1}')]\n",
    "    )\n",
    "\n",
    "    # connect edges to form MPO\n",
    "    conn_edges = []\n",
    "    conn = mpo[0][2] ^ mpo[1][0]\n",
    "    conn_edges.append(conn)\n",
    "    for k in range(1,r-1):\n",
    "        conn = mpo[k][2] ^ mpo[k+1][0]\n",
    "        conn_edges.append(conn)\n",
    "    \n",
    "    # return\n",
    "    return mpo, conn_edges\n",
    "\n",
    "\n",
    "# Contract a MPS into a single tensor\n",
    "def contract_MPS(mps, edges):\n",
    "    # sequential contractions\n",
    "    for k in range(len(edges)):\n",
    "        A = tn.contract(edges[k])\n",
    "    return A"
   ]
  },
  {
   "cell_type": "code",
   "execution_count": 3,
   "metadata": {},
   "outputs": [
    {
     "data": {
      "text/plain": [
       "16"
      ]
     },
     "execution_count": 3,
     "metadata": {},
     "output_type": "execute_result"
    }
   ],
   "source": [
    "r, d, D = 16, 2, 3\n",
    "mps, edges = create_MPS(r, d, D)\n",
    "\n",
    "res = contract_MPS(mps, edges)\n",
    "res.set_name('res')\n",
    "res.get_rank()\n",
    "\n",
    "\n"
   ]
  },
  {
   "cell_type": "code",
   "execution_count": 4,
   "metadata": {},
   "outputs": [
    {
     "data": {
      "text/plain": [
       "[0, 3, 6, 9]"
      ]
     },
     "execution_count": 4,
     "metadata": {},
     "output_type": "execute_result"
    }
   ],
   "source": [
    "# # sequential contractions\n",
    "# for k in range(len(edges)):\n",
    "#         res = tn.contract(edges[k])\n",
    "\n",
    "# res = tn.contractors.auto([mps[i] for i in range(r)], ignore_edge_order=True)\n",
    "# res = contract_MPS(mps)\n",
    "# res.set_name('contraction')\n",
    "\n",
    "a = [0,1,2,3,4,5,6,7,8,9]\n",
    "a[::3]\n"
   ]
  }
 ],
 "metadata": {
  "kernelspec": {
   "display_name": "thesis",
   "language": "python",
   "name": "python3"
  },
  "language_info": {
   "codemirror_mode": {
    "name": "ipython",
    "version": 3
   },
   "file_extension": ".py",
   "mimetype": "text/x-python",
   "name": "python",
   "nbconvert_exporter": "python",
   "pygments_lexer": "ipython3",
   "version": "3.11.5"
  }
 },
 "nbformat": 4,
 "nbformat_minor": 2
}
