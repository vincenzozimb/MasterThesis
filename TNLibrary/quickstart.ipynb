{
 "cells": [
  {
   "cell_type": "markdown",
   "metadata": {},
   "source": [
    "# Tensor Network documentation tutorial"
   ]
  },
  {
   "cell_type": "code",
   "execution_count": 8,
   "metadata": {},
   "outputs": [],
   "source": [
    "# import necessary packages\n",
    "import numpy as np\n",
    "import tensornetwork as tn"
   ]
  },
  {
   "cell_type": "markdown",
   "metadata": {},
   "source": [
    "#### Nodes"
   ]
  },
  {
   "cell_type": "code",
   "execution_count": 9,
   "metadata": {},
   "outputs": [
    {
     "name": "stdout",
     "output_type": "stream",
     "text": [
      "[[1. 0.]\n",
      " [0. 1.]]\n"
     ]
    }
   ],
   "source": [
    "node = tn.Node(np.eye(2))\n",
    "print(node.tensor)  # This is how you access the underlying tensor."
   ]
  },
  {
   "cell_type": "markdown",
   "metadata": {},
   "source": [
    "#### Edges"
   ]
  },
  {
   "cell_type": "code",
   "execution_count": 10,
   "metadata": {},
   "outputs": [],
   "source": [
    "a = tn.Node(np.eye(2))\n",
    "b = tn.Node(np.eye(2))\n",
    "c = tn.Node(np.eye(2))\n",
    "# Dangling edges are automatically created at node creation.\n",
    "# We can access them this way.\n",
    "dangling_edge = a.get_edge(1)\n",
    "# This is the same as above\n",
    "dangling_edge = a[1]\n",
    "# Create a standard edge by connecting any two separate nodes together.\n",
    "# We create a new edge by \"connecting\" two dangling edges.\n",
    "# standard_edge = a[0] ^ b[0] # same as tn.connect(a[0], b[0])\n",
    "standard_edge = tn.connect(a[0], b[0])\n",
    "# Create a trace edge by connecting a node to itself.\n",
    "trace_edge = c[0] ^ c[1]"
   ]
  },
  {
   "cell_type": "code",
   "execution_count": 11,
   "metadata": {},
   "outputs": [
    {
     "name": "stdout",
     "output_type": "stream",
     "text": [
      "1000000.0\n",
      "1000000.0\n"
     ]
    }
   ],
   "source": [
    "def one_edge_at_a_time(a, b):\n",
    "  node1 = tn.Node(a)\n",
    "  node2 = tn.Node(b)\n",
    "  edge1 = node1[0] ^ node2[0]\n",
    "  edge2 = node1[1] ^ node2[1]\n",
    "  tn.contract(edge1)\n",
    "  result = tn.contract(edge2)\n",
    "  return result.tensor\n",
    "\n",
    "def use_contract_between(a, b):\n",
    "  node1 = tn.Node(a)\n",
    "  node2 = tn.Node(b)\n",
    "  node1[0] ^ node2[0]\n",
    "  node1[1] ^ node2[1]\n",
    "  # This is the same as\n",
    "  # tn.contract_between(node1, node2)\n",
    "  result = node1 @ node2\n",
    "  return result.tensor\n",
    "\n",
    "a = np.ones((1000, 1000))\n",
    "b = np.ones((1000, 1000))\n",
    "\n",
    "res1 = one_edge_at_a_time(a, b)\n",
    "print(res1)\n",
    "res2 = use_contract_between(a, b)\n",
    "print(res2)\n"
   ]
  },
  {
   "cell_type": "markdown",
   "metadata": {},
   "source": [
    "### Matrix Product States (MPS)"
   ]
  },
  {
   "cell_type": "code",
   "execution_count": 32,
   "metadata": {},
   "outputs": [],
   "source": [
    "def block(*dimensions):\n",
    "  '''Construct a new matrix for the MPS with random numbers from 0 to 1'''\n",
    "  size = tuple([x for x in dimensions])\n",
    "  return np.random.random_sample(size)\n",
    "\n",
    "\n",
    "def create_MPS(rank, dim, bond_dim):\n",
    "  '''Build the MPS tensor'''\n",
    "  mps = (\n",
    "    [tn.Node( block(dim, bond_dim) )] +\n",
    "    [tn.Node( block(bond_dim, dim, bond_dim)) for _ in range(rank-2)] +\n",
    "    [tn.Node( block(bond_dim, dim) )]\n",
    "  )\n",
    "\n",
    "  #connect edges to build mps\n",
    "  connected_edges=[]\n",
    "  conn=mps[0][1]^mps[1][0]\n",
    "  connected_edges.append(conn)\n",
    "  for k in range(1,rank-1):\n",
    "      conn=mps[k][2]^mps[k+1][0]\n",
    "      connected_edges.append(conn)\n",
    "\n",
    "  return mps, connected_edges"
   ]
  },
  {
   "cell_type": "code",
   "execution_count": 36,
   "metadata": {},
   "outputs": [
    {
     "name": "stdout",
     "output_type": "stream",
     "text": [
      "components are: (0, 0, 0, 1, 1, 0, 1, 0, 1, 1)\n",
      "coefficient of the tensor at the selected components: 0.9827227855288356\n"
     ]
    }
   ],
   "source": [
    "########################################################################\n",
    "#----- Retrieving a Component from an MPS by Contracting its edges-----#\n",
    "########################################################################\n",
    "dim = 2\n",
    "bond_dim = 2\n",
    "rank = 10\n",
    "components=tuple(np.random.randint(0, dim, rank)) #select randomly the components that we will retrieve\n",
    "print(f'components are: {components}')\n",
    "\n",
    "mps_nodes, mps_edges = create_MPS(rank, dim, bond_dim)\n",
    "for k in range(len(mps_edges)):\n",
    "    A = tn.contract(mps_edges[k])\n",
    "\n",
    "#the last node now has all the edges corresponding to the tensor components.\n",
    "\n",
    "print(f'coefficient of the tensor at the selected components: {A.tensor[components]}')\n"
   ]
  },
  {
   "cell_type": "code",
   "execution_count": 56,
   "metadata": {},
   "outputs": [
    {
     "name": "stdout",
     "output_type": "stream",
     "text": [
      "__unnamed_edge__\n"
     ]
    }
   ],
   "source": [
    "A = tn.Node(np.random.random_sample((2,2,2)), name='a')\n",
    "A.shape\n",
    "print(A[0])\n"
   ]
  }
 ],
 "metadata": {
  "kernelspec": {
   "display_name": "thesis",
   "language": "python",
   "name": "python3"
  },
  "language_info": {
   "codemirror_mode": {
    "name": "ipython",
    "version": 3
   },
   "file_extension": ".py",
   "mimetype": "text/x-python",
   "name": "python",
   "nbconvert_exporter": "python",
   "pygments_lexer": "ipython3",
   "version": "3.11.5"
  }
 },
 "nbformat": 4,
 "nbformat_minor": 2
}
