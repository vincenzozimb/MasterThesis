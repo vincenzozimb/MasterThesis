{
 "cells": [
  {
   "cell_type": "code",
   "execution_count": 1,
   "metadata": {},
   "outputs": [],
   "source": [
    "# import necessary packages\n",
    "import numpy as np\n",
    "from numpy import linalg as LA\n",
    "from ncon import ncon"
   ]
  },
  {
   "cell_type": "markdown",
   "metadata": {},
   "source": [
    "Define the tensor, compute its norm and normalize it"
   ]
  },
  {
   "cell_type": "code",
   "execution_count": 2,
   "metadata": {},
   "outputs": [
    {
     "name": "stdout",
     "output_type": "stream",
     "text": [
      "Norm of A is: 554.2562584220408\n",
      "Norm of An is: 0.9999999999999999\n"
     ]
    }
   ],
   "source": [
    "d1 = 10\n",
    "d2 = 8\n",
    "\n",
    "# initialize tensor\n",
    "A = np.zeros((d1,d1,d2,d2))\n",
    "for i in range(d1):\n",
    "    for j in range(d1):\n",
    "        for k in range(d2):\n",
    "            for l in range(d2):\n",
    "                A[i,j,k,l] = np.sqrt(i+2*j+3*k+4*l+10)\n",
    "\n",
    "# calculate norm\n",
    "norm = LA.norm(A)\n",
    "print('Norm of A is:', norm)\n",
    "\n",
    "# normalize the vector\n",
    "An = A / norm\n",
    "print('Norm of An is:', LA.norm(An))"
   ]
  },
  {
   "cell_type": "markdown",
   "metadata": {},
   "source": [
    "Take the SVD of the tensor An"
   ]
  },
  {
   "cell_type": "code",
   "execution_count": 3,
   "metadata": {},
   "outputs": [
    {
     "name": "stdout",
     "output_type": "stream",
     "text": [
      "1.0\n"
     ]
    }
   ],
   "source": [
    "Ap = An.reshape(d1**2,d2**2)\n",
    "U,S,Vh = LA.svd(Ap)\n",
    "norm2 = np.sqrt(sum(S**2))\n",
    "print(norm2)"
   ]
  },
  {
   "cell_type": "markdown",
   "metadata": {},
   "source": [
    "Calculate the effective rank $r(\\Delta)$ of $A_n$ at $\\Delta=1e-4$ "
   ]
  },
  {
   "cell_type": "code",
   "execution_count": 4,
   "metadata": {},
   "outputs": [
    {
     "name": "stdout",
     "output_type": "stream",
     "text": [
      "Effective rank at Delta= 0.0001 is: 3\n",
      "err= 1.0484615133221256e-05\n",
      "err= 1.0484615133211629e-05\n"
     ]
    }
   ],
   "source": [
    "Delta = 1e-4\n",
    "Neff = sum(S > Delta)\n",
    "print('Effective rank at Delta=', 1e-4, 'is:', Neff)\n",
    "\n",
    "# truncation error\n",
    "eps = np.sqrt(sum( S[Neff:]**2 ))\n",
    "print('err=', eps)\n",
    "\n",
    "# optimal truncation\n",
    "At = (U[:,:Neff] @ np.diag(S[:Neff]) @ Vh[:Neff,:])\n",
    "At = At.reshape(d1,d1,d2,d2)\n",
    "eps2 = LA.norm(At-An)\n",
    "print('err=', eps2)"
   ]
  }
 ],
 "metadata": {
  "kernelspec": {
   "display_name": "thesis",
   "language": "python",
   "name": "python3"
  },
  "language_info": {
   "codemirror_mode": {
    "name": "ipython",
    "version": 3
   },
   "file_extension": ".py",
   "mimetype": "text/x-python",
   "name": "python",
   "nbconvert_exporter": "python",
   "pygments_lexer": "ipython3",
   "version": "3.11.5"
  }
 },
 "nbformat": 4,
 "nbformat_minor": 2
}
