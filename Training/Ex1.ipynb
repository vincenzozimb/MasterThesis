{
 "cells": [
  {
   "cell_type": "code",
   "execution_count": 5,
   "metadata": {},
   "outputs": [],
   "source": [
    "# import necessary packages\n",
    "import numpy as np\n",
    "from timeit import default_timer as timer\n",
    "from ncon import ncon"
   ]
  },
  {
   "cell_type": "markdown",
   "metadata": {},
   "source": [
    "Initialize rank-3 random tensors A, B, C, assuming all indices are dimension d = 20"
   ]
  },
  {
   "cell_type": "code",
   "execution_count": 6,
   "metadata": {},
   "outputs": [],
   "source": [
    "d = 20\n",
    "\n",
    "A = np.random.rand(d,d,d)\n",
    "B = np.random.rand(d,d,d)\n",
    "C = np.random.rand(d,d,d)"
   ]
  },
  {
   "cell_type": "markdown",
   "metadata": {},
   "source": [
    "Evaluate the network contraction as a single summation ​​over all internal indices using FOR loops"
   ]
  },
  {
   "cell_type": "code",
   "execution_count": 7,
   "metadata": {},
   "outputs": [
    {
     "name": "stdout",
     "output_type": "stream",
     "text": [
      "58.459406981999564\n"
     ]
    }
   ],
   "source": [
    "D_sum = np.zeros((d,d,d))\n",
    "\n",
    "t0 = timer() \n",
    "for b1 in range(d):\n",
    "    for a2 in range(d):\n",
    "        for c3 in range(d):\n",
    "            # contractions\n",
    "            for i in range(d):\n",
    "                for j in range(d):\n",
    "                    for k in range(d):\n",
    "                        D_sum[b1,a2,c3] = D_sum[b1,a2,c3] + A[i,a2,j] * B[b1,i,k] * C[k,j,c3]\n",
    "\n",
    "t_sum = timer() - t0\n",
    "print(t_sum)"
   ]
  },
  {
   "cell_type": "markdown",
   "metadata": {},
   "source": [
    "Evaluate the network contraction as a sequence of binary contractions implemented using 'permute' and 'reshape'."
   ]
  },
  {
   "cell_type": "code",
   "execution_count": 8,
   "metadata": {},
   "outputs": [
    {
     "name": "stdout",
     "output_type": "stream",
     "text": [
      "0.029534414999943692\n"
     ]
    }
   ],
   "source": [
    "t0 = timer()\n",
    "\n",
    "BA = ( (B.transpose(0,2,1).reshape(d**2,d)) @ (A.reshape(d,d**2)) ).reshape(d,d,d,d)\n",
    "D_bin = ( (BA.transpose(0,2,1,3).reshape(d**2,d**2)) @ C.reshape(d**2,d) ).reshape(d,d,d)\n",
    "\n",
    "t_bin = timer() - t0\n",
    "print(t_bin)"
   ]
  },
  {
   "cell_type": "markdown",
   "metadata": {},
   "source": [
    "Evaluate the network contraction using the 'ncon' routine"
   ]
  },
  {
   "cell_type": "code",
   "execution_count": 9,
   "metadata": {},
   "outputs": [
    {
     "name": "stdout",
     "output_type": "stream",
     "text": [
      "0.0025937079999494017\n"
     ]
    }
   ],
   "source": [
    "t0 = timer()\n",
    "\n",
    "D_ncon = ncon([A,B,C],[[1,-2,2],[-1,1,3],[3,2,-3]], order = [1,2,3])\n",
    "t_ncon = timer() - t0\n",
    "\n",
    "print(t_ncon)"
   ]
  }
 ],
 "metadata": {
  "kernelspec": {
   "display_name": "Python 3",
   "language": "python",
   "name": "python3"
  },
  "language_info": {
   "codemirror_mode": {
    "name": "ipython",
    "version": 3
   },
   "file_extension": ".py",
   "mimetype": "text/x-python",
   "name": "python",
   "nbconvert_exporter": "python",
   "pygments_lexer": "ipython3",
   "version": "3.11.5"
  },
  "orig_nbformat": 4
 },
 "nbformat": 4,
 "nbformat_minor": 2
}
