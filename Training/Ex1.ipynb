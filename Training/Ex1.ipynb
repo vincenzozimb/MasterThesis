{
 "cells": [
  {
   "cell_type": "code",
   "execution_count": 1,
   "metadata": {},
   "outputs": [],
   "source": [
    "# import necessary packages\n",
    "import numpy as np\n",
    "from timeit import default_timer as timer\n",
    "from ncon import ncon"
   ]
  },
  {
   "cell_type": "markdown",
   "metadata": {},
   "source": [
    "Initialize rank-3 random tensors A, B, C, assuming all indices are dimension d = 20"
   ]
  },
  {
   "cell_type": "code",
   "execution_count": 2,
   "metadata": {},
   "outputs": [],
   "source": [
    "d = 20\n",
    "\n",
    "A = np.random.rand(d,d,d)\n",
    "B = np.random.rand(d,d,d)\n",
    "C = np.random.rand(d,d,d)"
   ]
  },
  {
   "cell_type": "markdown",
   "metadata": {},
   "source": [
    "Evaluate the network contraction as a single summation ​​over all internal indices using FOR loops"
   ]
  },
  {
   "cell_type": "code",
   "execution_count": 3,
   "metadata": {},
   "outputs": [
    {
     "ename": "KeyboardInterrupt",
     "evalue": "",
     "output_type": "error",
     "traceback": [
      "\u001b[0;31m---------------------------------------------------------------------------\u001b[0m",
      "\u001b[0;31mKeyboardInterrupt\u001b[0m                         Traceback (most recent call last)",
      "\u001b[1;32m/home/vincenzo/Desktop/Thesis/MasterThesis/Training/Ex1.ipynb Cell 5\u001b[0m line \u001b[0;36m1\n\u001b[1;32m      <a href='vscode-notebook-cell:/home/vincenzo/Desktop/Thesis/MasterThesis/Training/Ex1.ipynb#W4sZmlsZQ%3D%3D?line=8'>9</a>\u001b[0m                 \u001b[39mfor\u001b[39;00m j \u001b[39min\u001b[39;00m \u001b[39mrange\u001b[39m(d):\n\u001b[1;32m     <a href='vscode-notebook-cell:/home/vincenzo/Desktop/Thesis/MasterThesis/Training/Ex1.ipynb#W4sZmlsZQ%3D%3D?line=9'>10</a>\u001b[0m                     \u001b[39mfor\u001b[39;00m k \u001b[39min\u001b[39;00m \u001b[39mrange\u001b[39m(d):\n\u001b[0;32m---> <a href='vscode-notebook-cell:/home/vincenzo/Desktop/Thesis/MasterThesis/Training/Ex1.ipynb#W4sZmlsZQ%3D%3D?line=10'>11</a>\u001b[0m                         D_sum[b1,a2,c3] \u001b[39m=\u001b[39m D_sum[b1,a2,c3] \u001b[39m+\u001b[39m A[i,a2,j] \u001b[39m*\u001b[39m B[b1,i,k] \u001b[39m*\u001b[39m C[k,j,c3]\n\u001b[1;32m     <a href='vscode-notebook-cell:/home/vincenzo/Desktop/Thesis/MasterThesis/Training/Ex1.ipynb#W4sZmlsZQ%3D%3D?line=12'>13</a>\u001b[0m t_sum \u001b[39m=\u001b[39m timer() \u001b[39m-\u001b[39m t0\n\u001b[1;32m     <a href='vscode-notebook-cell:/home/vincenzo/Desktop/Thesis/MasterThesis/Training/Ex1.ipynb#W4sZmlsZQ%3D%3D?line=13'>14</a>\u001b[0m \u001b[39mprint\u001b[39m(t_sum)\n",
      "\u001b[0;31mKeyboardInterrupt\u001b[0m: "
     ]
    }
   ],
   "source": [
    "D_sum = np.zeros((d,d,d))\n",
    "\n",
    "t0 = timer() \n",
    "for b1 in range(d):\n",
    "    for a2 in range(d):\n",
    "        for c3 in range(d):\n",
    "            # contractions\n",
    "            for i in range(d):\n",
    "                for j in range(d):\n",
    "                    for k in range(d):\n",
    "                        D_sum[b1,a2,c3] = D_sum[b1,a2,c3] + A[i,a2,j] * B[b1,i,k] * C[k,j,c3]\n",
    "\n",
    "t_sum = timer() - t0\n",
    "print(t_sum)"
   ]
  },
  {
   "cell_type": "markdown",
   "metadata": {},
   "source": [
    "Evaluate the network contraction as a sequence of binary contractions implemented using 'permute' and 'reshape'."
   ]
  },
  {
   "cell_type": "code",
   "execution_count": 3,
   "metadata": {},
   "outputs": [
    {
     "name": "stdout",
     "output_type": "stream",
     "text": [
      "0.041598451000027126\n"
     ]
    }
   ],
   "source": [
    "t0 = timer()\n",
    "\n",
    "BA = ( (B.transpose(0,2,1).reshape(d**2,d)) @ (A.reshape(d,d**2)) ).reshape(d,d,d,d)\n",
    "D_bin = ( (BA.transpose(0,2,1,3).reshape(d**2,d**2)) @ C.reshape(d**2,d) ).reshape(d,d,d)\n",
    "\n",
    "t_bin = timer() - t0\n",
    "print(t_bin)"
   ]
  },
  {
   "cell_type": "markdown",
   "metadata": {},
   "source": [
    "Evaluate the network contraction using the 'ncon' routine"
   ]
  },
  {
   "cell_type": "code",
   "execution_count": 4,
   "metadata": {},
   "outputs": [
    {
     "name": "stdout",
     "output_type": "stream",
     "text": [
      "0.002985654000440263\n"
     ]
    }
   ],
   "source": [
    "t0 = timer()\n",
    "\n",
    "D_ncon = ncon([A,B,C],[[1,-2,2],[-1,1,3],[3,2,-3]], order = [1,2,3])\n",
    "t_ncon = timer() - t0\n",
    "\n",
    "print(t_ncon)"
   ]
  }
 ],
 "metadata": {
  "kernelspec": {
   "display_name": "Python 3",
   "language": "python",
   "name": "python3"
  },
  "language_info": {
   "codemirror_mode": {
    "name": "ipython",
    "version": 3
   },
   "file_extension": ".py",
   "mimetype": "text/x-python",
   "name": "python",
   "nbconvert_exporter": "python",
   "pygments_lexer": "ipython3",
   "version": "3.11.5"
  },
  "orig_nbformat": 4
 },
 "nbformat": 4,
 "nbformat_minor": 2
}
